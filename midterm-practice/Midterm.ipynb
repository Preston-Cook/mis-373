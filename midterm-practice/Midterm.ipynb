{
 "cells": [
  {
   "cell_type": "code",
   "execution_count": 1,
   "id": "6d5aa4c4",
   "metadata": {},
   "outputs": [
    {
     "name": "stderr",
     "output_type": "stream",
     "text": [
      "/var/folders/c6/0cyt6hb142l4v20j3d67l7kr0000gn/T/ipykernel_35758/1492400551.py:1: DeprecationWarning: \n",
      "Pyarrow will become a required dependency of pandas in the next major release of pandas (pandas 3.0),\n",
      "(to allow more performant data types, such as the Arrow string type, and better interoperability with other libraries)\n",
      "but was not found to be installed on your system.\n",
      "If this would cause problems for you,\n",
      "please provide us feedback at https://github.com/pandas-dev/pandas/issues/54466\n",
      "        \n",
      "  import pandas as pd\n"
     ]
    }
   ],
   "source": [
    "import pandas as pd\n",
    "import matplotlib.pyplot as plt"
   ]
  },
  {
   "cell_type": "markdown",
   "id": "c7949c92",
   "metadata": {},
   "source": [
    "---\n",
    "We will analyze a dataset of demolition permits in Austin (**Demolitions.csv**). It has the following fields:\n",
    "\n",
    "* *Permit Class Mapped*: The different types of demolition permits.\n",
    "* *Original Zip* and *Original Address*: The zipcode and address where the demolition will occur.\n",
    "* *Property Legal Description*: How the location is described in the property records database.\n",
    "* *Total Job Valuation* and *Total Existing Bldg SQFT*: The expected total cost of the job and the square-footage of the location.\n",
    "* *Project Name*: Name assigned to the project.\n",
    "* *Day Issued*: The day of the week when the permit was issued.\n",
    "* *Contractor Company Name* and *Contractor Zip*: Information about the contractor who gets the demolition permit."
   ]
  },
  {
   "cell_type": "markdown",
   "id": "d16c1925",
   "metadata": {},
   "source": [
    "### [Q1 4 points] Read in the data as a dataframe and print the first 5 rows."
   ]
  },
  {
   "cell_type": "code",
   "execution_count": 3,
   "id": "bed94187",
   "metadata": {},
   "outputs": [
    {
     "data": {
      "text/html": [
       "<div>\n",
       "<style scoped>\n",
       "    .dataframe tbody tr th:only-of-type {\n",
       "        vertical-align: middle;\n",
       "    }\n",
       "\n",
       "    .dataframe tbody tr th {\n",
       "        vertical-align: top;\n",
       "    }\n",
       "\n",
       "    .dataframe thead th {\n",
       "        text-align: right;\n",
       "    }\n",
       "</style>\n",
       "<table border=\"1\" class=\"dataframe\">\n",
       "  <thead>\n",
       "    <tr style=\"text-align: right;\">\n",
       "      <th></th>\n",
       "      <th>Permit Class Mapped</th>\n",
       "      <th>Original Zip</th>\n",
       "      <th>Original Address</th>\n",
       "      <th>Property Legal Description</th>\n",
       "      <th>Total Job Valuation</th>\n",
       "      <th>Total Existing Bldg SQFT</th>\n",
       "      <th>Project Name</th>\n",
       "      <th>Day Issued</th>\n",
       "      <th>Contractor Company Name</th>\n",
       "      <th>Contractor Zip</th>\n",
       "    </tr>\n",
       "  </thead>\n",
       "  <tbody>\n",
       "    <tr>\n",
       "      <th>0</th>\n",
       "      <td>Residential</td>\n",
       "      <td>78703.0</td>\n",
       "      <td>3303 BONNIE RD</td>\n",
       "      <td>LOT 2 LESS E 6FT BLK 1 TOBIN  JOHNSON SUBD</td>\n",
       "      <td>8500.0</td>\n",
       "      <td>2000.0</td>\n",
       "      <td>3303 BONNIE RD</td>\n",
       "      <td>THURSDAY</td>\n",
       "      <td>Southwest B Constructors</td>\n",
       "      <td>78753</td>\n",
       "    </tr>\n",
       "    <tr>\n",
       "      <th>1</th>\n",
       "      <td>Residential</td>\n",
       "      <td>78703.0</td>\n",
       "      <td>1102 ENFIELD RD</td>\n",
       "      <td>S PT OF LOT 29 S105' OF E135'AV OF LOT 28 OLT ...</td>\n",
       "      <td>10000.0</td>\n",
       "      <td>2400.0</td>\n",
       "      <td>1102   ENFIELD RD</td>\n",
       "      <td>THURSDAY</td>\n",
       "      <td>Jim Bennett Consulting</td>\n",
       "      <td>78748</td>\n",
       "    </tr>\n",
       "    <tr>\n",
       "      <th>2</th>\n",
       "      <td>Residential</td>\n",
       "      <td>78703.0</td>\n",
       "      <td>2710 CARLTON RD</td>\n",
       "      <td>LOT 3 RESUB OF LOT 10 MONTDALE</td>\n",
       "      <td>6371.0</td>\n",
       "      <td>1956.0</td>\n",
       "      <td>2710 CARLTON RD</td>\n",
       "      <td>FRIDAY</td>\n",
       "      <td>NaN</td>\n",
       "      <td>78705</td>\n",
       "    </tr>\n",
       "    <tr>\n",
       "      <th>3</th>\n",
       "      <td>Residential</td>\n",
       "      <td>78757.0</td>\n",
       "      <td>7602 TISDALE DR</td>\n",
       "      <td>LOT 64 JEFFERSON VILLAGE</td>\n",
       "      <td>8200.0</td>\n",
       "      <td>2283.0</td>\n",
       "      <td>7602 TISDALE DR</td>\n",
       "      <td>FRIDAY</td>\n",
       "      <td>NaN</td>\n",
       "      <td>78757</td>\n",
       "    </tr>\n",
       "    <tr>\n",
       "      <th>4</th>\n",
       "      <td>Residential</td>\n",
       "      <td>78731.0</td>\n",
       "      <td>5507 LEMONWOOD DR</td>\n",
       "      <td>LOT 70A LAKEWOOD VILLAGE AMENDED PLAT OF LOTS ...</td>\n",
       "      <td>0.0</td>\n",
       "      <td>0.0</td>\n",
       "      <td>5507 LEMONWOOD DR</td>\n",
       "      <td>FRIDAY</td>\n",
       "      <td>DAR Construction</td>\n",
       "      <td>78714-2028</td>\n",
       "    </tr>\n",
       "  </tbody>\n",
       "</table>\n",
       "</div>"
      ],
      "text/plain": [
       "  Permit Class Mapped  Original Zip   Original Address  \\\n",
       "0         Residential       78703.0     3303 BONNIE RD   \n",
       "1         Residential       78703.0    1102 ENFIELD RD   \n",
       "2         Residential       78703.0    2710 CARLTON RD   \n",
       "3         Residential       78757.0    7602 TISDALE DR   \n",
       "4         Residential       78731.0  5507 LEMONWOOD DR   \n",
       "\n",
       "                          Property Legal Description  Total Job Valuation  \\\n",
       "0         LOT 2 LESS E 6FT BLK 1 TOBIN  JOHNSON SUBD               8500.0   \n",
       "1  S PT OF LOT 29 S105' OF E135'AV OF LOT 28 OLT ...              10000.0   \n",
       "2                     LOT 3 RESUB OF LOT 10 MONTDALE               6371.0   \n",
       "3                           LOT 64 JEFFERSON VILLAGE               8200.0   \n",
       "4  LOT 70A LAKEWOOD VILLAGE AMENDED PLAT OF LOTS ...                  0.0   \n",
       "\n",
       "   Total Existing Bldg SQFT       Project Name Day Issued  \\\n",
       "0                    2000.0     3303 BONNIE RD   THURSDAY   \n",
       "1                    2400.0  1102   ENFIELD RD   THURSDAY   \n",
       "2                    1956.0    2710 CARLTON RD     FRIDAY   \n",
       "3                    2283.0    7602 TISDALE DR     FRIDAY   \n",
       "4                       0.0  5507 LEMONWOOD DR     FRIDAY   \n",
       "\n",
       "    Contractor Company Name Contractor Zip  \n",
       "0  Southwest B Constructors          78753  \n",
       "1    Jim Bennett Consulting          78748  \n",
       "2                       NaN          78705  \n",
       "3                       NaN          78757  \n",
       "4          DAR Construction     78714-2028  "
      ]
     },
     "execution_count": 3,
     "metadata": {},
     "output_type": "execute_result"
    }
   ],
   "source": [
    "df = pd.read_csv('./Demolitions.csv')\n",
    "df.iloc[:5]"
   ]
  },
  {
   "cell_type": "markdown",
   "id": "249271be",
   "metadata": {},
   "source": [
    "### [Q2 6 points] Print out all the unique values of *Permit Class Mapped* and their frequencies."
   ]
  },
  {
   "cell_type": "code",
   "execution_count": 4,
   "id": "7fa5d82d",
   "metadata": {},
   "outputs": [
    {
     "data": {
      "text/plain": [
       "Permit Class Mapped\n",
       "Residential    12012\n",
       "Commercial      2147\n",
       "Name: count, dtype: int64"
      ]
     },
     "execution_count": 4,
     "metadata": {},
     "output_type": "execute_result"
    }
   ],
   "source": [
    "df['Permit Class Mapped'].value_counts()"
   ]
  },
  {
   "cell_type": "markdown",
   "id": "e960a6cb",
   "metadata": {},
   "source": [
    "### [Q3 6 points] In how many instances is the Original Zip identical to the Contractor Zip?"
   ]
  },
  {
   "cell_type": "code",
   "execution_count": 5,
   "id": "43964a77",
   "metadata": {},
   "outputs": [
    {
     "data": {
      "text/plain": [
       "1308"
      ]
     },
     "execution_count": 5,
     "metadata": {},
     "output_type": "execute_result"
    }
   ],
   "source": [
    "df['Original Zip'] = df['Original Zip'].fillna(0)\n",
    "df['Original Zip'] = df['Original Zip'].astype(int)\n",
    "df['Original Zip'] = df['Original Zip'].astype(str)\n",
    "sum(df['Original Zip'] == df['Contractor Zip'])"
   ]
  },
  {
   "cell_type": "markdown",
   "id": "c1328e5c",
   "metadata": {},
   "source": [
    "### [Q4 6 points] What fraction of rows have a missing Property Legal Description?"
   ]
  },
  {
   "cell_type": "code",
   "execution_count": 6,
   "id": "34b33765",
   "metadata": {},
   "outputs": [
    {
     "data": {
      "text/plain": [
       "2343"
      ]
     },
     "execution_count": 6,
     "metadata": {},
     "output_type": "execute_result"
    }
   ],
   "source": [
    "sum(df['Property Legal Description'].isnull())"
   ]
  },
  {
   "cell_type": "markdown",
   "id": "55eb5a24",
   "metadata": {},
   "source": [
    "### [Q5 8 points] Show a bar plot where the x-axis is the Day Issued and the y-axis is the number of rows for those days."
   ]
  },
  {
   "cell_type": "code",
   "execution_count": 7,
   "id": "d6fab7a8",
   "metadata": {
    "scrolled": false
   },
   "outputs": [
    {
     "data": {
      "text/plain": [
       "<Axes: xlabel='Day Issued'>"
      ]
     },
     "execution_count": 7,
     "metadata": {},
     "output_type": "execute_result"
    },
    {
     "data": {
      "image/png": "[encoded data removed]",
      "text/plain": [
       "<Figure size 640x480 with 1 Axes>"
      ]
     },
     "metadata": {},
     "output_type": "display_data"
    }
   ],
   "source": [
    "df['Day Issued'].value_counts().plot.bar()"
   ]
  },
  {
   "cell_type": "markdown",
   "id": "b64015e3",
   "metadata": {},
   "source": [
    "### [Q6 8 points] Show two histograms side by side.\n",
    "\n",
    "* The first histogram should be of the Total Existing Bldg SQFT, but restricted to only the rows where this number is less than 5000.\n",
    "* The second histogram should be of the Total Job Valuation, but restricted to only the rows where this number is less than 10000."
   ]
  },
  {
   "cell_type": "code",
   "execution_count": 9,
   "id": "7a68e062",
   "metadata": {},
   "outputs": [
    {
     "data": {
      "text/plain": [
       "<Axes: xlabel='Job Valuation', ylabel='Frequency'>"
      ]
     },
     "execution_count": 9,
     "metadata": {},
     "output_type": "execute_result"
    },
    {
     "data": {
      "image/png": "[encoded data removed]",
      "text/plain": [
       "<Figure size 640x480 with 2 Axes>"
      ]
     },
     "metadata": {},
     "output_type": "display_data"
    }
   ],
   "source": [
    "fig, axes = plt.subplots(nrows=1, ncols=2, sharey=True)\n",
    "\n",
    "df[df['Total Existing Bldg SQFT'] < 5000]['Total Existing Bldg SQFT'].plot.hist(ax=axes[0], xlabel='Square Feet', ylabel='Frequency')\n",
    "df[df['Total Job Valuation'] < 10000]['Total Job Valuation'].plot.hist(ax=axes[1], xlabel='Job Valuation')"
   ]
  },
  {
   "cell_type": "markdown",
   "id": "849b285b",
   "metadata": {},
   "source": [
    "### [Q7 8 points] Print out the Project Names that are the most frequent.\n",
    "If there are multiple such Project Names, you must output all of them."
   ]
  },
  {
   "cell_type": "code",
   "execution_count": 91,
   "id": "9d6e8dab",
   "metadata": {},
   "outputs": [
    {
     "data": {
      "text/plain": [
       "'1515 S LAMAR BLVD, 7337 MANCHACA RD'"
      ]
     },
     "execution_count": 91,
     "metadata": {},
     "output_type": "execute_result"
    }
   ],
   "source": [
    "project_counts = df['Project Name'].value_counts()\n",
    "max_freq = project_counts.max()\n",
    "\n",
    "', '.join(project_counts[project_counts == max_freq].index.values)"
   ]
  },
  {
   "cell_type": "markdown",
   "id": "ae92a2e8",
   "metadata": {},
   "source": [
    "### [Q8 12 points] Print out the top 5 Contractor Company Names based on the sum of Total Job Valuations for all rows associated with those companies."
   ]
  },
  {
   "cell_type": "code",
   "execution_count": 97,
   "id": "aab17695",
   "metadata": {},
   "outputs": [
    {
     "data": {
      "text/plain": [
       "Contractor Company Name\n",
       "Austin Filter Systems, Inc             45500000.0\n",
       "TRC                                    11500000.0\n",
       "A & R Demolition Operations Account     7349172.0\n",
       "AAR Inc.                                5502889.0\n",
       "DAR Construction                        4899684.0\n",
       "Name: Total Job Valuation, dtype: float64"
      ]
     },
     "execution_count": 97,
     "metadata": {},
     "output_type": "execute_result"
    }
   ],
   "source": [
    "df.groupby(['Contractor Company Name'])['Total Job Valuation'].sum().sort_values(ascending=False).iloc[:5]"
   ]
  },
  {
   "cell_type": "markdown",
   "id": "18e317cc",
   "metadata": {},
   "source": [
    "### [Q9 12 points] Popular streets\n",
    "\n",
    "* Many (but not all!) Original Address are of the form \"streetnumber street name\" (e.g. 3303 BONNIE RD).\n",
    "* Extract just the street name part of the address (e.g., \"BONNIE RD\")\n",
    "    * If the Original Address has only 1 word, then ignore this address.\n",
    "* Print out the top-10 most frequent street names (i.e., the street names that occur on the most number of rows)."
   ]
  },
  {
   "cell_type": "code",
   "execution_count": 103,
   "id": "14e32a57",
   "metadata": {},
   "outputs": [
    {
     "data": {
      "text/plain": [
       "1\n",
       "S LAMAR BLVD      104\n",
       "S CONGRESS AVE     95\n",
       "N LAMAR BLVD       71\n",
       "WESTLAKE DR        70\n",
       "BURNET RD          69\n",
       "WILLOW ST          62\n",
       "S 3RD ST           62\n",
       "HASKELL ST         60\n",
       "CHICON ST          59\n",
       "E 3RD ST           58\n",
       "Name: count, dtype: int64"
      ]
     },
     "execution_count": 103,
     "metadata": {},
     "output_type": "execute_result"
    }
   ],
   "source": [
    "street_names = df['Original Address'].str.split(n=1, expand=True)\n",
    "street_names = street_names[street_names.notnull()]\n",
    "street_names[1].value_counts().iloc[:10]"
   ]
  },
  {
   "cell_type": "markdown",
   "id": "78dfd74e",
   "metadata": {},
   "source": [
    "### [Q10 15 points] Common company last-names\n",
    "\n",
    "* For each *unique* Contractor Company Name, figure out the last word in its name\n",
    "    * For example, a company named \"Southwest B Constructors\" has last-name \"Constructors\"\n",
    "    * If the company's name has only one word, that is the last word.\n",
    "* Clean up these last-words by removing anything except upper-case or lower-case letters\n",
    "    * If the last word is \"Inc.\", the clean last word is \"Inc\"\n",
    "    * If the last word is \"%ABC&\", the clean last word is \"ABC\"\n",
    "    * If the last word is \"%ABC&&DEF@@\", the clean last word is \"ABCDEF\"\n",
    "* Print out the top-5 most common clean-last-words\n",
    "\n",
    "*Note*: Remember that each company name can occur on multiple rows. For the top-5 list, don't count these repetitions; each company name is counted only once."
   ]
  },
  {
   "cell_type": "code",
   "execution_count": 122,
   "id": "a68a8266",
   "metadata": {},
   "outputs": [
    {
     "data": {
      "text/plain": [
       "LLC             594\n",
       "Inc             316\n",
       "Construction    251\n",
       "Homes           118\n",
       "MAIN             59\n",
       "Name: count, dtype: int64"
      ]
     },
     "execution_count": 122,
     "metadata": {},
     "output_type": "execute_result"
    }
   ],
   "source": [
    "from string import punctuation\n",
    "\n",
    "names = pd.Series(df[df['Contractor Company Name'].notnull()]['Contractor Company Name'].unique())\n",
    "last_words = names.apply(lambda x: x.split()[-1])\n",
    "\n",
    "def clean_words(word: str) -> str:\n",
    "    bad_chars = set(punctuation)\n",
    "\n",
    "    res = ''\n",
    "    for char in word:\n",
    "        if char not in bad_chars:\n",
    "            res += char\n",
    "    \n",
    "    return res\n",
    "\n",
    "last_words.apply(clean_words).value_counts().iloc[:5]\n",
    "\n"
   ]
  },
  {
   "cell_type": "markdown",
   "id": "e41e5434",
   "metadata": {},
   "source": [
    "### [Q11 15 points] Most common contractors\n",
    "Figure out which Contractor Zips have at least 20 unique Contractor Company Names.\n",
    "For each of these Contractor Zips, print out the Contractor Company Name that is most frequent (i.e., shows up in the most rows)."
   ]
  },
  {
   "cell_type": "code",
   "execution_count": 145,
   "id": "12e33b55",
   "metadata": {},
   "outputs": [
    {
     "data": {
      "text/plain": [
       "'How Are You? I Am Good'"
      ]
     },
     "execution_count": 145,
     "metadata": {},
     "output_type": "execute_result"
    }
   ],
   "source": [
    "import string"
   ]
  }
 ],
 "metadata": {
  "kernelspec": {
   "display_name": "Python 3 (ipykernel)",
   "language": "python",
   "name": "python3"
  },
  "language_info": {
   "codemirror_mode": {
    "name": "ipython",
    "version": 3
   },
   "file_extension": ".py",
   "mimetype": "text/x-python",
   "name": "python",
   "nbconvert_exporter": "python",
   "pygments_lexer": "ipython3",
   "version": "3.11.5"
  }
 },
 "nbformat": 4,
 "nbformat_minor": 5
}
