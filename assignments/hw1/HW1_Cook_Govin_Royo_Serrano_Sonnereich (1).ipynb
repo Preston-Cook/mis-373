{
 "cells": [
  {
   "cell_type": "markdown",
   "metadata": {
    "id": "k3ObHKIiPjOF"
   },
   "source": [
    "# Homework \\# 1\n",
    "#### By Preston Cook, Viren Govin, Juan Royo, Maria Serrano, Ethan Sonnereich"
   ]
  },
  {
   "cell_type": "markdown",
   "metadata": {
    "id": "mnmEYhpGPjOI"
   },
   "source": [
    "### *Question 1: Rock Paper Scissors*"
   ]
  },
  {
   "cell_type": "code",
   "execution_count": null,
   "metadata": {
    "id": "SVbx2vVlPjOJ",
    "outputId": "61bcea0d-475c-4f66-8f8b-e65faccc4c2f"
   },
   "outputs": [],
   "source": [
    "import random as r\n",
    "\n",
    "r.seed = 42\n",
    "\n",
    "class RockPaperScissors:\n",
    "    pairs = { 'scissors': 'rock', 'rock': 'paper', 'paper': 'scissors' }\n",
    "\n",
    "    def __init__(self) -> None:\n",
    "\n",
    "        self.moves = {'rock': 0, 'paper': 0, 'scissors': 0}\n",
    "        self.games_played = 0\n",
    "        self.games_won = 0\n",
    "\n",
    "    def play(self) -> None:\n",
    "        while (user_move := self.get_human_move()) != 'quit':\n",
    "\n",
    "            computer_move = self.get_computer_move()\n",
    "            self.moves[user_move] += 1\n",
    "\n",
    "            print(f'Human Move - {user_move.capitalize()} Computer Move - {computer_move.capitalize()}')\n",
    "\n",
    "            if user_move == 'rock' and computer_move == 'paper':\n",
    "                print('You lose! Paper covers Rock, so Paper beats Rock.')\n",
    "\n",
    "            elif user_move == 'rock' and computer_move == 'scissors':\n",
    "                print('You win! Rock smashes Scissors, so Rock beats Scissors.')\n",
    "                self.games_won += 1\n",
    "\n",
    "            elif user_move == 'paper' and computer_move == 'scissors':\n",
    "                print('You lose! Scissors can cut up paper, so Scissors beat Paper.')\n",
    "\n",
    "            elif user_move == 'paper' and computer_move == 'rock':\n",
    "                print('You win! Paper covers Rock, so Paper beats Rock.')\n",
    "                self.games_won += 1\n",
    "\n",
    "            elif user_move == 'scissors' and computer_move == 'rock':\n",
    "                print('You lose! Rock smashes Scissors, so Rock beats Scissors.')\n",
    "\n",
    "            elif user_move == 'scissors' and computer_move == 'paper':\n",
    "                print('You win! Scissors can cut up paper, so Scissors beat Paper.')\n",
    "                self.games_won += 1\n",
    "            else:\n",
    "                print('There was a tie!')\n",
    "\n",
    "            self.games_played += 1\n",
    "\n",
    "        print(f'Games Won: {self.games_won} Games Played: {self.games_played}')\n",
    "\n",
    "        # reset counters\n",
    "        self.moves = {'rock': 0, 'paper': 0, 'scissors': 0}\n",
    "        self.games_won = 0\n",
    "        self.games_played = 0\n",
    "\n",
    "    def get_human_move(self) -> str:\n",
    "        while (user_move := input('Enter move:').lower().strip()) not in [*self.moves, 'quit']:\n",
    "            print('Invalid Input')\n",
    "\n",
    "        return user_move\n",
    "\n",
    "    def get_computer_move(self) -> str:\n",
    "        top_moves = []\n",
    "        highest_freq = 0\n",
    "\n",
    "        for k, v in self.moves.items():\n",
    "            if v > highest_freq:\n",
    "                top_moves = [k]\n",
    "                highest_freq = v\n",
    "            elif v == highest_freq:\n",
    "                top_moves.append(k)\n",
    "\n",
    "        return RockPaperScissors.pairs[r.choice(top_moves)]\n",
    "\n",
    "game = RockPaperScissors()\n",
    "game.play()"
   ]
  },
  {
   "cell_type": "markdown",
   "metadata": {
    "id": "GAIL_9WVPjOL"
   },
   "source": [
    "### *Question 2: Movie CSV*"
   ]
  },
  {
   "cell_type": "code",
   "execution_count": null,
   "metadata": {},
   "outputs": [],
   "source": []
  },
  {
   "cell_type": "code",
   "execution_count": 4,
   "metadata": {
    "id": "j54QuWS2PjOM",
    "outputId": "b73255bf-e50b-4473-8e47-585cc63541e9"
   },
   "outputs": [
    {
     "name": "stdout",
     "output_type": "stream",
     "text": [
      "                       0                    1                         2  \\\n",
      "0              Brad Pitt             sleepers                      troy   \n",
      "1              Tom Hanks    you have got mail                 apollo 13   \n",
      "2               Meg Ryan    you have got mail      sleepless in seattle   \n",
      "3           Diane Kruger                 troy         national treasure   \n",
      "4         Dustin Hoffman             sleepers             the lost city   \n",
      "5        Anthony Hopkins             hannibal                  the edge   \n",
      "6           Alec Baldwin             the edge              pearl harbor   \n",
      "7         Angelina Jolie       bone collector    lara croft tomb raider   \n",
      "8      Denzel Washington       bone collector                 the siege   \n",
      "9          Julia Roberts         pretty woman             oceans eleven   \n",
      "10       Gwyneth Paltrow  shakespeare in love                    bounce   \n",
      "11         Russell Crowe            gladiator          a beautiful mind   \n",
      "12    Sylvester Stallone                rocky                     rambo   \n",
      "13           Johnny Depp  edward scissorhands  the pirates of caribbean   \n",
      "14    Leonardo Di Caprio              titanic             blood diamond   \n",
      "15      Antonio Banderas    the mask of zorro                 desperado   \n",
      "16            Tom Cruise              top gun        mission impossible   \n",
      "17          Kate Winslet              titanic         finding neverland   \n",
      "18        George Clooney        oceans eleven       intolerable cruelty   \n",
      "19            Matt Damon    good will hunting           bourne identity   \n",
      "20           Ben Affleck               bounce         good will hunting   \n",
      "21  Catherine Zeta Jones    the mask of zorro       intolerable cruelty   \n",
      "22        Morgan Freeman       bone collector                     seven   \n",
      "23          Bruce Willis             die hard           the sixth sense   \n",
      "24        Julianne Moore            assassins                  hannibal   \n",
      "25           Salma Hayek            desperado            wild wild west   \n",
      "26            Will Smith       wild wild west      pursuit of happyness   \n",
      "27           Kevin Bacon       a few good men                  sleepers   \n",
      "28            Jim Carrey             the mask            bruce almighty   \n",
      "29       Renee Zellweger    me-myself & irene             jerry maguire   \n",
      "\n",
      "                       3                    4      5               6  \n",
      "0         meet joe black        oceans eleven  seven  mr & mrs smith  \n",
      "1   sleepless in seattle  catch me if you can    NaN             NaN  \n",
      "2                    NaN                  NaN    NaN             NaN  \n",
      "3                    NaN                  NaN    NaN             NaN  \n",
      "4                    NaN                  NaN    NaN             NaN  \n",
      "5         meet joe black                proof    NaN             NaN  \n",
      "6                    NaN                  NaN    NaN             NaN  \n",
      "7         mr & mrs smith                  NaN    NaN             NaN  \n",
      "8      american gangster                  NaN    NaN             NaN  \n",
      "9          runaway bride                  NaN    NaN             NaN  \n",
      "10                 proof                  NaN    NaN             NaN  \n",
      "11        cinderella man    american gangster    NaN             NaN  \n",
      "12             assassins                  NaN    NaN             NaN  \n",
      "13     finding neverland                  NaN    NaN             NaN  \n",
      "14          the departed  catch me if you can    NaN             NaN  \n",
      "15                   NaN                  NaN    NaN             NaN  \n",
      "16         jerry maguire       a few good men    NaN             NaN  \n",
      "17                   NaN                  NaN    NaN             NaN  \n",
      "18                   NaN                  NaN    NaN             NaN  \n",
      "19      bourne ultimatum         the departed    NaN             NaN  \n",
      "20          pearl harbor                  NaN    NaN             NaN  \n",
      "21                   NaN                  NaN    NaN             NaN  \n",
      "22   million dollar baby       bruce almighty    NaN             NaN  \n",
      "23          pulp fiction            the siege    NaN             NaN  \n",
      "24                   NaN                  NaN    NaN             NaN  \n",
      "25                   NaN                  NaN    NaN             NaN  \n",
      "26                 hitch         men in black    NaN             NaN  \n",
      "27                   NaN                  NaN    NaN             NaN  \n",
      "28           ace ventura    me-myself & irene    NaN             NaN  \n",
      "29        cinderella man                  NaN    NaN             NaN  \n",
      "Invalid Movie\n",
      "Invalid Movie\n",
      "Invalid Movie\n",
      "Invalid Movie\n",
      "Invalid Movie\n",
      "Invalid Movie\n",
      "Invalid Movie\n",
      "Invalid Movie\n",
      "Actors in Both Ace Ventura and Troy: []\n",
      "Actors in Ace Ventura and not Troy: ['Jim Carrey']\n",
      "Actors Just in Troy and not Ace Ventura: ['Brad Pitt', 'Diane Kruger']\n"
     ]
    }
   ],
   "source": [
    "import pandas as pd\n",
    "\n",
    "df = pd.read_csv('./movies.csv', header=None)\n",
    "df.iloc[:, 1:] = df.iloc[:, 1:].map(lambda x: x.lower() if isinstance(x, str) else x)\n",
    "movies = df.iloc[:, 1:].values\n",
    "\n",
    "while (movie_1 := input('Enter first movie: ').lower().strip()) not in movies:\n",
    "    print('Invalid Movie')\n",
    "\n",
    "while (movie_2 := input('Enter second movie: ').lower().strip()) not in movies:\n",
    "    print('Invalid Movie')\n",
    "\n",
    "df1 = df.iloc[:, 1:].isin([movie_1]).any(axis=1)\n",
    "df2 = df.iloc[:, 1:].isin([movie_2]).any(axis=1)\n",
    "\n",
    "actors_in_both = list(df[df1 & df2][0])\n",
    "actors_in_m1 = list(df[df1 & ~df2][0])\n",
    "actors_in_m2 = list(df[~df1 & df2][0])\n",
    "\n",
    "m1, m2 = map(str.title, [movie_1, movie_2])\n",
    "\n",
    "print(f'Actors in Both {m1} and {m2}: {actors_in_both}')\n",
    "print(f'Actors in {m1} and not {m2}: {actors_in_m1}')\n",
    "print(f'Actors Just in {m2} and not {m1}: {actors_in_m2}')"
   ]
  },
  {
   "cell_type": "markdown",
   "metadata": {
    "id": "Hb9jqDd-PjON"
   },
   "source": [
    "### *Question 3: Song-Writing*"
   ]
  },
  {
   "cell_type": "code",
   "execution_count": null,
   "metadata": {},
   "outputs": [],
   "source": [
    "#Read files\n",
    "df_skeleton = pd.read_csv('skeleton_SamuraiShowdown.txt', sep='::', header=None, names=['Prefix', 'Beats in Prefix', 'Ending'], engine='python')\n",
    "df_endings = pd.read_csv('endings.txt', sep='::', header=None, names=['Ending Words', 'Rhythm', 'Beats'], engine='python')\n",
    "\n",
    "completed_song = []\n",
    "\n",
    "for index, row in df_skeleton.iterrows():\n",
    "\n",
    "    prefix = row['Prefix'] if not pd.isna(row['Prefix']) else \"\"\n",
    "    ending = row['Ending'] if not pd.isna(row['Ending']) else \"\"\n",
    "\n",
    "    if ending == 'XXX' or ending == \"\":\n",
    "        # If the ending is 'XXX' or empty, replaace\n",
    "        if previous_rhythm != None and previous_total_beats != None:\n",
    "            required_beats = previous_total_beats - row['Beats in Prefix']\n",
    "            matching_endings = df_endings[(df_endings['Rhythm'] == previous_rhythm) & (df_endings['Beats'] == required_beats)]\n",
    "\n",
    "            if not matching_endings.empty:\n",
    "                new_ending = matching_endings.iloc[0]['Ending Words']\n",
    "                line = f\"{prefix} {new_ending}\" if prefix else new_ending\n",
    "            else:\n",
    "                # If no matching ending use prefix\n",
    "                line = prefix\n",
    "        else:\n",
    "            # If no previous rhythm, use prefix\n",
    "            line = prefix\n",
    "    else:\n",
    "        # If ending, update rhythm and beats\n",
    "        line = f\"{prefix} {ending}\" if prefix else ending\n",
    "        matching_endings = df_endings[df_endings['Ending Words'] == ending]\n",
    "\n",
    "        if not matching_endings.empty:\n",
    "            matching_ending = matching_endings.iloc[0]\n",
    "            previous_rhythm = matching_ending['Rhythm']\n",
    "            previous_total_beats = row['Beats in Prefix'] + matching_ending['Beats']\n",
    "\n",
    "    completed_song.append(line)"
   ]
  },
  {
   "cell_type": "code",
   "execution_count": null,
   "metadata": {},
   "outputs": [],
   "source": [
    "print(*completed_song)"
   ]
  }
 ],
 "metadata": {
  "colab": {
   "provenance": []
  },
  "kernelspec": {
   "display_name": "Python 3 (ipykernel)",
   "language": "python",
   "name": "python3"
  },
  "language_info": {
   "codemirror_mode": {
    "name": "ipython",
    "version": 3
   },
   "file_extension": ".py",
   "mimetype": "text/x-python",
   "name": "python",
   "nbconvert_exporter": "python",
   "pygments_lexer": "ipython3",
   "version": "3.11.5"
  }
 },
 "nbformat": 4,
 "nbformat_minor": 4
}
