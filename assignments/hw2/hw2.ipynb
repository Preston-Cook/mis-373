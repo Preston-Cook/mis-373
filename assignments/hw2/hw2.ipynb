{
 "cells": [
  {
   "cell_type": "markdown",
   "id": "0fc2dcbb",
   "metadata": {},
   "source": [
    "# Instructions\n",
    "\n",
    "* The assignment is due in one week.\n",
    "* Provide some short comments/documentation for your code. This makes it easier to understand and grade.\n",
    "* In the cell below, please provide a breakdown of individual contributions. For example, Person XYZ worked on problems 5-10, etc."
   ]
  },
  {
   "cell_type": "markdown",
   "id": "2c330f90",
   "metadata": {},
   "source": [
    "*Breakdown of individual contributions: ==FILL IN==*"
   ]
  },
  {
   "cell_type": "markdown",
   "id": "a949f1ef",
   "metadata": {},
   "source": [
    "---\n",
    "\n",
    "# New York City Restaurant Inspections\n",
    "\n",
    "We will analyze restaurant inspections in New York City, starting November 1, 2014 and ending January 31, 2015. \n",
    "The data is in the file <a href=\"NYC_Restaurants.csv\">NYC_Restaurants.csv</a>."
   ]
  },
  {
   "cell_type": "code",
   "execution_count": 2,
   "id": "7aa8e457",
   "metadata": {},
   "outputs": [
    {
     "name": "stderr",
     "output_type": "stream",
     "text": [
      "/var/folders/c6/0cyt6hb142l4v20j3d67l7kr0000gn/T/ipykernel_42078/1209894122.py:1: DeprecationWarning: \n",
      "Pyarrow will become a required dependency of pandas in the next major release of pandas (pandas 3.0),\n",
      "(to allow more performant data types, such as the Arrow string type, and better interoperability with other libraries)\n",
      "but was not found to be installed on your system.\n",
      "If this would cause problems for you,\n",
      "please provide us feedback at https://github.com/pandas-dev/pandas/issues/54466\n",
      "        \n",
      "  import pandas as pd\n"
     ]
    },
    {
     "name": "stdout",
     "output_type": "stream",
     "text": [
      "%pylab is deprecated, use %matplotlib inline and import the required libraries.\n",
      "Populating the interactive namespace from numpy and matplotlib\n"
     ]
    }
   ],
   "source": [
    "import pandas as pd\n",
    "from pandas import Series, DataFrame\n",
    "%pylab inline"
   ]
  },
  {
   "cell_type": "code",
   "execution_count": 3,
   "id": "3ad15af5",
   "metadata": {},
   "outputs": [],
   "source": [
    "# The dtype=str tells Pandas to load in all columns as strings.\n",
    "# I do this because I know they are strings, and Pandas doesn't have to spend time figuring out the column dtypes.\n",
    "df = pd.read_csv('NYC_Restaurants.csv', dtype=str)"
   ]
  },
  {
   "cell_type": "markdown",
   "id": "63cda23b",
   "metadata": {},
   "source": [
    "#### [Q1, 7 points] Create a unique name for each restaurant.\n",
    "On the DataFrame created above, add a new column to your DataFrame called 'RESTAURANT', that combines DBA, BUILDING, STREET, ZIPCODE, and BORO fields. For example:\n",
    "<pre>WENDY'S 469 FLATBUSH AVENUE 11225 BROOKLYN</pre>\n",
    "\n",
    "Print the first 10 values of the RESTAURANT column of your DataFrame."
   ]
  },
  {
   "cell_type": "code",
   "execution_count": 4,
   "id": "1cb30806",
   "metadata": {},
   "outputs": [
    {
     "data": {
      "text/plain": [
       "0           WENDY'S 469 FLATBUSH AVENUE 11225 BROOKLYN\n",
       "1           WENDY'S 469 FLATBUSH AVENUE 11225 BROOKLYN\n",
       "2           WENDY'S 469 FLATBUSH AVENUE 11225 BROOKLYN\n",
       "3           WENDY'S 469 FLATBUSH AVENUE 11225 BROOKLYN\n",
       "4           WENDY'S 469 FLATBUSH AVENUE 11225 BROOKLYN\n",
       "5        TOV KOSHER KITCHEN 97-22 63 ROAD 11374 QUEENS\n",
       "6        TOV KOSHER KITCHEN 97-22 63 ROAD 11374 QUEENS\n",
       "7        TOV KOSHER KITCHEN 97-22 63 ROAD 11374 QUEENS\n",
       "8        TOV KOSHER KITCHEN 97-22 63 ROAD 11374 QUEENS\n",
       "9    BRUNOS ON THE BOULEVARD 8825 ASTORIA BOULEVARD...\n",
       "Name: RESTAURANT, dtype: object"
      ]
     },
     "execution_count": 4,
     "metadata": {},
     "output_type": "execute_result"
    }
   ],
   "source": [
    "df['RESTAURANT'] = df['DBA'] + ' ' + df['BUILDING'] + ' ' + df['STREET'] + ' ' + df['ZIPCODE'] + ' ' + df['BORO']\n",
    "df['RESTAURANT'].iloc[:10]"
   ]
  },
  {
   "cell_type": "markdown",
   "id": "4e24739a",
   "metadata": {},
   "source": [
    "#### [Q2, 7 points] How many restaurants are included in the data?\n",
    "Careful now:\n",
    "\n",
    "*  A *Subway* in one particular address (i.e., building, street, zipcode, and boro) counts as one restaurant; don't combine all Subways into one restaurant!\n",
    "* The data can have multiple violations for the same restaurant!"
   ]
  },
  {
   "cell_type": "code",
   "execution_count": 9,
   "id": "7b296913",
   "metadata": {},
   "outputs": [
    {
     "data": {
      "text/plain": [
       "202280"
      ]
     },
     "execution_count": 9,
     "metadata": {},
     "output_type": "execute_result"
    }
   ],
   "source": []
  },
  {
   "cell_type": "markdown",
   "id": "2f41420d",
   "metadata": {},
   "source": [
    "#### [Q3, 7 points] How many chains are there?\n",
    "Let us define a chain to be the same restaurant name occurring in at least two different (building, street, zipcode, boro) addresses (i.e., one DBA with multiple restaurant locations).\n",
    "\n",
    "You'll see multiple versions of the name \"DUNKIN DONUTS\". Just act as if they are different chains."
   ]
  },
  {
   "cell_type": "code",
   "execution_count": 72,
   "id": "eae6da04",
   "metadata": {},
   "outputs": [
    {
     "data": {
      "text/plain": [
       "array([\"WENDY'S 469 FLATBUSH AVENUE 11225 BROOKLYN\",\n",
       "       'TOV KOSHER KITCHEN 97-22 63 ROAD 11374 QUEENS',\n",
       "       'BRUNOS ON THE BOULEVARD 8825 ASTORIA BOULEVARD 11369 QUEENS', ...,\n",
       "       'NEW WORLD FAST FOOD 4021 MAIN ST 11354 QUEENS',\n",
       "       'EARLY 967 MANHATTAN AVE 11222 BROOKLYN',\n",
       "       'TESHIGOTOYA 432 E 13TH ST 10009 MANHATTAN'], dtype=object)"
      ]
     },
     "execution_count": 72,
     "metadata": {},
     "output_type": "execute_result"
    }
   ],
   "source": []
  },
  {
   "cell_type": "markdown",
   "id": "4225e644",
   "metadata": {},
   "source": [
    "#### [Q4, 7 points] Plot a bar graph of the top 20 most popular chains.\n",
    "We already have the chains from the previous problem. Count the number of restaurants for each chain as a measure of its popularity."
   ]
  },
  {
   "cell_type": "code",
   "execution_count": null,
   "id": "750c6b29",
   "metadata": {},
   "outputs": [],
   "source": []
  },
  {
   "cell_type": "markdown",
   "id": "7c862125",
   "metadata": {},
   "source": [
    "#### [Q5, 7 points] What fraction of all restaurants are chain restaurants?\n",
    "\n",
    "You should think of a restaurant as being one restaurant at one location.\n",
    "So *Wendy's 5th Street* and *Wendy's on 10th Street* are two different restaurants.\n",
    "Essentially a restaurant is what you defined in Q1."
   ]
  },
  {
   "cell_type": "code",
   "execution_count": null,
   "id": "227bee7b",
   "metadata": {},
   "outputs": [],
   "source": []
  },
  {
   "cell_type": "markdown",
   "id": "83d7fe35",
   "metadata": {},
   "source": [
    "#### [Q6, 7 points] Plot the number of non-chain restaurants in each boro.\n",
    "\n",
    "We need several steps:\n",
    "* Figure out all the non-chain restaurants.\n",
    "* Then elect out only those restaurants.\n",
    "* Finally plot the number of such restaurants by boro. \n",
    "* Make sure to look at the plot; we don't want to see... oh... the *missing* boro."
   ]
  },
  {
   "cell_type": "code",
   "execution_count": null,
   "id": "8e576025",
   "metadata": {},
   "outputs": [],
   "source": []
  },
  {
   "cell_type": "markdown",
   "id": "bb4924b4",
   "metadata": {},
   "source": [
    "#### [Q7, 10 points] Plot the *fraction* of non-chain restaurants in each boro.\n",
    "The boro with the most non-chain restaurants might just be the boro\n",
    "with the most restaurants in general.\n",
    "\n",
    "If we want to find the boro that attracts the most \"independent\" restauranteurs, we must divide the number of non-chain restaurants by the total number of restaurants in the boro. Plot this.\n",
    "\n",
    "Is the boro with the most independent restaurants also the one with the highest ratio of independent restaurants?"
   ]
  },
  {
   "cell_type": "code",
   "execution_count": null,
   "id": "c309ea20",
   "metadata": {},
   "outputs": [],
   "source": []
  },
  {
   "cell_type": "markdown",
   "id": "b62a6acd",
   "metadata": {},
   "source": [
    "#### [Q8, 7 points] Plot the popularity of cuisines.\n",
    "Which cuisines are the most well-represented among all restaurants?\n",
    "\n",
    "* Define the popularity of a cuisine as the number of restaurants serving that cuisine.\n",
    "* Plot the popularity of the top 20 cuisines."
   ]
  },
  {
   "cell_type": "code",
   "execution_count": null,
   "id": "2c1d5651",
   "metadata": {},
   "outputs": [],
   "source": []
  },
  {
   "cell_type": "markdown",
   "id": "985ca86e",
   "metadata": {},
   "source": [
    "#### [Q9, 12 points] Plot the cuisines among restaurants which do not get cited for violations.\n",
    "Ideally, you should explore and see what happens when there is no\n",
    "violation, but here I will just tell you: the 'VIOLATION CODE' field\n",
    "is missing.\n",
    "\n",
    "* Select only the *RESTAURANT* and *CUISINE DESCRIPTION* columns of the DataFrame (we created the *RESTAURANT* column in an earlier question).\n",
    "* Select the instances where a restaurant did not get cited.\n",
    "* If a restaurant-cuisine combination was inspected but not cited multiple times, retain only one instance of it.\n",
    "* Among these instances, how frequent is each of the cuisines?\n",
    "* Plot the frequencies of the top-20 among these cuisines."
   ]
  },
  {
   "cell_type": "code",
   "execution_count": null,
   "id": "46f3e8fa",
   "metadata": {},
   "outputs": [],
   "source": []
  },
  {
   "cell_type": "markdown",
   "id": "998e6370",
   "metadata": {},
   "source": [
    "#### [Q10, 7 points] What cuisines tend to be the \"cleanest\"?\n",
    "\n",
    "* Select all cuisines for which there were at least 20 restaurants representing that cuisine.\n",
    "* For each such cuisine, compute the ratio of the counts in Q9 to Q8. This is the ratio of restaurants with at least one non-citation, versus total number of restaurants, for each cuisine.\n",
    "* Find the top-10 cuisines with the highest ratios; these are that cuisines whose restaurants are \"most likely to be clean.\""
   ]
  },
  {
   "cell_type": "code",
   "execution_count": null,
   "id": "6488828c",
   "metadata": {},
   "outputs": [],
   "source": []
  },
  {
   "cell_type": "markdown",
   "id": "388868e1",
   "metadata": {},
   "source": [
    "#### [Q11, 10 points] What are the most common violations in each  borough?\n",
    "\n",
    "* Create a table of the number of times each violation description was observed in each borough.\n",
    "    * To create the table, check out the `crosstab` function. We will see a more general version of this when we discuss `groupby` in class.\n",
    "    * Alternatively, you can create a dummy column, fill it with just the number 1, and use `pivot_table` (figure out what *aggfunc* should be).\n",
    "* Figure out the most common violation description for each borough."
   ]
  },
  {
   "cell_type": "code",
   "execution_count": null,
   "id": "d477c92b",
   "metadata": {},
   "outputs": [],
   "source": []
  },
  {
   "cell_type": "markdown",
   "id": "50faa719",
   "metadata": {},
   "source": [
    "#### [Q12,12 points] What are the most common violations per borough, *after normalizing for the relative abundance of each violation?*\n",
    "\n",
    "Hopefully, the answer to the previous question left you unsatisfied,\n",
    "because some violations are just very common, irrespective of borough.\n",
    "A better approach would be to **normalize** the violation counts, as\n",
    "follows.\n",
    "\n",
    "* **Get overall frequencies:** Figure out how common each violation is, over the entire dataset; let's call this <tt>violationFrequency</tt>.\n",
    "* **Normalize:** Consider the table of number of violations by borough that you created for the previous question. For each borough, divide the number of violations of each type by the total number of violations for that type; i.e., divide the series of violations by <tt>violationFrequency</tt>. We want to do this **for each borough**.\n",
    "* **Find the biggest violations:** After this normalization, for each borough, figure out the most common violation description."
   ]
  },
  {
   "cell_type": "code",
   "execution_count": null,
   "id": "b6f37ac4",
   "metadata": {},
   "outputs": [],
   "source": []
  }
 ],
 "metadata": {
  "kernelspec": {
   "display_name": "Python 3 (ipykernel)",
   "language": "python",
   "name": "python3"
  },
  "language_info": {
   "codemirror_mode": {
    "name": "ipython",
    "version": 3
   },
   "file_extension": ".py",
   "mimetype": "text/x-python",
   "name": "python",
   "nbconvert_exporter": "python",
   "pygments_lexer": "ipython3",
   "version": "3.11.5"
  }
 },
 "nbformat": 4,
 "nbformat_minor": 5
}
