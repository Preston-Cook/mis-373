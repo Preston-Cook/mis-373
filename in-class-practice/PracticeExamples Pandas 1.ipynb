{
 "cells": [
  {
   "cell_type": "code",
   "execution_count": 1,
   "metadata": {},
   "outputs": [
    {
     "name": "stderr",
     "output_type": "stream",
     "text": [
      "/var/folders/c6/0cyt6hb142l4v20j3d67l7kr0000gn/T/ipykernel_19382/3075176015.py:1: DeprecationWarning: \n",
      "Pyarrow will become a required dependency of pandas in the next major release of pandas (pandas 3.0),\n",
      "(to allow more performant data types, such as the Arrow string type, and better interoperability with other libraries)\n",
      "but was not found to be installed on your system.\n",
      "If this would cause problems for you,\n",
      "please provide us feedback at https://github.com/pandas-dev/pandas/issues/54466\n",
      "        \n",
      "  from pandas import Series, DataFrame\n"
     ]
    }
   ],
   "source": [
    "import pandas as pd"
   ]
  },
  {
   "cell_type": "markdown",
   "metadata": {},
   "source": [
    "### Read in the cars.csv file, and print the first row"
   ]
  },
  {
   "cell_type": "code",
   "execution_count": 6,
   "metadata": {},
   "outputs": [
    {
     "name": "stdout",
     "output_type": "stream",
     "text": [
      "                      type   mpg  cyl   disp     hp    wt  speed  wt.1\n",
      "0  AMC Ambassador Brougham  13.0    8  360.0  175.0  3821   11.0    73\n"
     ]
    }
   ],
   "source": [
    "df = pd.read_csv('./cars.csv')\n",
    "first_row = df.head(1)\n",
    "print(first_row)"
   ]
  },
  {
   "cell_type": "markdown",
   "metadata": {},
   "source": [
    "### Print the last 5 columns of the last 5 rows"
   ]
  },
  {
   "cell_type": "code",
   "execution_count": 7,
   "metadata": {},
   "outputs": [
    {
     "name": "stdout",
     "output_type": "stream",
     "text": [
      "                   type   mpg  cyl   disp     hp    wt  speed  wt.1\n",
      "401  Volvo 145E (Wagon)  18.0    4  121.0  112.0  2933   14.5    72\n",
      "402         Volvo 244DL  22.0    4  121.0   98.0  2945   14.5    75\n",
      "403           Volvo 245  20.0    4  130.0  102.0  3150   15.7    76\n",
      "404         Volvo 264GL  17.0    6  163.0  125.0  3140   13.6    78\n",
      "405        Volvo Diesel  30.7    6  145.0   76.0  3160   19.6    81\n"
     ]
    }
   ],
   "source": [
    "last_five = df.tail(5)\n",
    "print(last_five)"
   ]
  },
  {
   "cell_type": "markdown",
   "metadata": {},
   "source": [
    "### Print the row for the car named *\"Volvo 264GL\"*"
   ]
  },
  {
   "cell_type": "code",
   "execution_count": 8,
   "metadata": {},
   "outputs": [
    {
     "data": {
      "text/html": [
       "<div>\n",
       "<style scoped>\n",
       "    .dataframe tbody tr th:only-of-type {\n",
       "        vertical-align: middle;\n",
       "    }\n",
       "\n",
       "    .dataframe tbody tr th {\n",
       "        vertical-align: top;\n",
       "    }\n",
       "\n",
       "    .dataframe thead th {\n",
       "        text-align: right;\n",
       "    }\n",
       "</style>\n",
       "<table border=\"1\" class=\"dataframe\">\n",
       "  <thead>\n",
       "    <tr style=\"text-align: right;\">\n",
       "      <th></th>\n",
       "      <th>type</th>\n",
       "      <th>mpg</th>\n",
       "      <th>cyl</th>\n",
       "      <th>disp</th>\n",
       "      <th>hp</th>\n",
       "      <th>wt</th>\n",
       "      <th>speed</th>\n",
       "      <th>wt.1</th>\n",
       "    </tr>\n",
       "  </thead>\n",
       "  <tbody>\n",
       "    <tr>\n",
       "      <th>404</th>\n",
       "      <td>Volvo 264GL</td>\n",
       "      <td>17.0</td>\n",
       "      <td>6</td>\n",
       "      <td>163.0</td>\n",
       "      <td>125.0</td>\n",
       "      <td>3140</td>\n",
       "      <td>13.6</td>\n",
       "      <td>78</td>\n",
       "    </tr>\n",
       "  </tbody>\n",
       "</table>\n",
       "</div>"
      ],
      "text/plain": [
       "            type   mpg  cyl   disp     hp    wt  speed  wt.1\n",
       "404  Volvo 264GL  17.0    6  163.0  125.0  3140   13.6    78"
      ]
     },
     "execution_count": 8,
     "metadata": {},
     "output_type": "execute_result"
    }
   ],
   "source": [
    "df[df['type'] == 'Volvo 264GL']"
   ]
  },
  {
   "cell_type": "markdown",
   "metadata": {},
   "source": [
    "### Create a column named _kpl_ that contains the mileage of each car, in kilometers per liter.\n",
    "\n",
    "You already have miles-per-gallon (mpg). 1 mile = 1.609 kilometers, and 1 gallon = 3.785 liters."
   ]
  },
  {
   "cell_type": "code",
   "execution_count": 9,
   "metadata": {},
   "outputs": [],
   "source": [
    "df['kpl'] = df['mpg'] * 1.609 / 3.785"
   ]
  },
  {
   "cell_type": "markdown",
   "metadata": {},
   "source": [
    "### Add a new column called *disp_per_cyl* to the dataframe.\n",
    "\n",
    "The values of this column should be the displacement (*disp*) per cylinder (*cyl*) for each car."
   ]
  },
  {
   "cell_type": "code",
   "execution_count": 10,
   "metadata": {},
   "outputs": [],
   "source": [
    "df['disp_per_cyl'] = df['disp'] / df['cyl']"
   ]
  },
  {
   "cell_type": "markdown",
   "metadata": {},
   "source": [
    "### Print the names of the 5 fastest cars."
   ]
  },
  {
   "cell_type": "code",
   "execution_count": 21,
   "metadata": {},
   "outputs": [
    {
     "name": "stdout",
     "output_type": "stream",
     "text": [
      "Peugeot 504, Volkswagen Pickup, Volkswagen Dasher (Diesel), Volkswagen Type 3, Chevrolet Chevette\n"
     ]
    }
   ],
   "source": [
    "print(', '.join(df.sort_values(by=['speed'], ascending=False).head(5)['type'].values))"
   ]
  },
  {
   "cell_type": "markdown",
   "metadata": {},
   "source": [
    "### Find the fraction of cars that have 8 cylinders\n",
    "\n",
    "*Hint:* Use the len() function to get the number of rows of a DataFrame"
   ]
  },
  {
   "cell_type": "code",
   "execution_count": 38,
   "metadata": {},
   "outputs": [
    {
     "name": "stdout",
     "output_type": "stream",
     "text": [
      "2396003742640461/9007199254740992\n"
     ]
    }
   ],
   "source": [
    "from fractions import Fraction\n",
    "\n",
    "frac = Fraction(len(df[df['cyl'] == 8]) / len(df))\n",
    "\n",
    "print(frac)\n",
    "\n"
   ]
  },
  {
   "cell_type": "markdown",
   "metadata": {},
   "source": [
    "### Which cars are just way too heavy?\n",
    "\n",
    "Suppose the average weight of all cars is m, and the standard deviation of weights is s.\n",
    "A car is too heavy if its weight is greater than m + 2*s.\n",
    "\n",
    "*Hint:* Look at the mean() and std() methods of Series."
   ]
  },
  {
   "cell_type": "code",
   "execution_count": 24,
   "metadata": {},
   "outputs": [
    {
     "data": {
      "text/html": [
       "<div>\n",
       "<style scoped>\n",
       "    .dataframe tbody tr th:only-of-type {\n",
       "        vertical-align: middle;\n",
       "    }\n",
       "\n",
       "    .dataframe tbody tr th {\n",
       "        vertical-align: top;\n",
       "    }\n",
       "\n",
       "    .dataframe thead th {\n",
       "        text-align: right;\n",
       "    }\n",
       "</style>\n",
       "<table border=\"1\" class=\"dataframe\">\n",
       "  <thead>\n",
       "    <tr style=\"text-align: right;\">\n",
       "      <th></th>\n",
       "      <th>type</th>\n",
       "      <th>mpg</th>\n",
       "      <th>cyl</th>\n",
       "      <th>disp</th>\n",
       "      <th>hp</th>\n",
       "      <th>wt</th>\n",
       "      <th>speed</th>\n",
       "      <th>wt.1</th>\n",
       "      <th>kpl</th>\n",
       "      <th>disp_per_cyl</th>\n",
       "    </tr>\n",
       "  </thead>\n",
       "  <tbody>\n",
       "    <tr>\n",
       "      <th>40</th>\n",
       "      <td>Buick Century Luxus (Wagon)</td>\n",
       "      <td>13.0</td>\n",
       "      <td>8</td>\n",
       "      <td>350.0</td>\n",
       "      <td>150.0</td>\n",
       "      <td>4699</td>\n",
       "      <td>14.5</td>\n",
       "      <td>74</td>\n",
       "      <td>5.526288</td>\n",
       "      <td>43.750</td>\n",
       "    </tr>\n",
       "    <tr>\n",
       "      <th>44</th>\n",
       "      <td>Buick Electra 225 Custom</td>\n",
       "      <td>12.0</td>\n",
       "      <td>8</td>\n",
       "      <td>455.0</td>\n",
       "      <td>225.0</td>\n",
       "      <td>4951</td>\n",
       "      <td>11.0</td>\n",
       "      <td>73</td>\n",
       "      <td>5.101189</td>\n",
       "      <td>56.875</td>\n",
       "    </tr>\n",
       "    <tr>\n",
       "      <th>80</th>\n",
       "      <td>Chevrolet Impala</td>\n",
       "      <td>11.0</td>\n",
       "      <td>8</td>\n",
       "      <td>400.0</td>\n",
       "      <td>150.0</td>\n",
       "      <td>4997</td>\n",
       "      <td>14.0</td>\n",
       "      <td>73</td>\n",
       "      <td>4.676090</td>\n",
       "      <td>50.000</td>\n",
       "    </tr>\n",
       "    <tr>\n",
       "      <th>109</th>\n",
       "      <td>Chrysler New Yorker Brougham</td>\n",
       "      <td>13.0</td>\n",
       "      <td>8</td>\n",
       "      <td>440.0</td>\n",
       "      <td>215.0</td>\n",
       "      <td>4735</td>\n",
       "      <td>11.0</td>\n",
       "      <td>73</td>\n",
       "      <td>5.526288</td>\n",
       "      <td>55.000</td>\n",
       "    </tr>\n",
       "    <tr>\n",
       "      <th>158</th>\n",
       "      <td>Dodge Monaco (Wagon)</td>\n",
       "      <td>12.0</td>\n",
       "      <td>8</td>\n",
       "      <td>383.0</td>\n",
       "      <td>180.0</td>\n",
       "      <td>4955</td>\n",
       "      <td>11.5</td>\n",
       "      <td>71</td>\n",
       "      <td>5.101189</td>\n",
       "      <td>47.875</td>\n",
       "    </tr>\n",
       "    <tr>\n",
       "      <th>172</th>\n",
       "      <td>Ford Country Squire (Wagon)</td>\n",
       "      <td>13.0</td>\n",
       "      <td>8</td>\n",
       "      <td>400.0</td>\n",
       "      <td>170.0</td>\n",
       "      <td>4746</td>\n",
       "      <td>12.0</td>\n",
       "      <td>71</td>\n",
       "      <td>5.526288</td>\n",
       "      <td>50.000</td>\n",
       "    </tr>\n",
       "    <tr>\n",
       "      <th>174</th>\n",
       "      <td>Ford Country</td>\n",
       "      <td>12.0</td>\n",
       "      <td>8</td>\n",
       "      <td>400.0</td>\n",
       "      <td>167.0</td>\n",
       "      <td>4906</td>\n",
       "      <td>12.5</td>\n",
       "      <td>73</td>\n",
       "      <td>5.101189</td>\n",
       "      <td>50.000</td>\n",
       "    </tr>\n",
       "    <tr>\n",
       "      <th>225</th>\n",
       "      <td>Hi 1200D</td>\n",
       "      <td>9.0</td>\n",
       "      <td>8</td>\n",
       "      <td>304.0</td>\n",
       "      <td>193.0</td>\n",
       "      <td>4732</td>\n",
       "      <td>18.5</td>\n",
       "      <td>70</td>\n",
       "      <td>3.825892</td>\n",
       "      <td>38.000</td>\n",
       "    </tr>\n",
       "    <tr>\n",
       "      <th>259</th>\n",
       "      <td>Mercury Marquis Brougham</td>\n",
       "      <td>12.0</td>\n",
       "      <td>8</td>\n",
       "      <td>429.0</td>\n",
       "      <td>198.0</td>\n",
       "      <td>4952</td>\n",
       "      <td>11.5</td>\n",
       "      <td>73</td>\n",
       "      <td>5.101189</td>\n",
       "      <td>53.625</td>\n",
       "    </tr>\n",
       "    <tr>\n",
       "      <th>333</th>\n",
       "      <td>Pontiac Safari (Wagon)</td>\n",
       "      <td>13.0</td>\n",
       "      <td>8</td>\n",
       "      <td>400.0</td>\n",
       "      <td>175.0</td>\n",
       "      <td>5140</td>\n",
       "      <td>12.0</td>\n",
       "      <td>71</td>\n",
       "      <td>5.526288</td>\n",
       "      <td>50.000</td>\n",
       "    </tr>\n",
       "  </tbody>\n",
       "</table>\n",
       "</div>"
      ],
      "text/plain": [
       "                             type   mpg  cyl   disp     hp    wt  speed  wt.1  \\\n",
       "40    Buick Century Luxus (Wagon)  13.0    8  350.0  150.0  4699   14.5    74   \n",
       "44       Buick Electra 225 Custom  12.0    8  455.0  225.0  4951   11.0    73   \n",
       "80               Chevrolet Impala  11.0    8  400.0  150.0  4997   14.0    73   \n",
       "109  Chrysler New Yorker Brougham  13.0    8  440.0  215.0  4735   11.0    73   \n",
       "158          Dodge Monaco (Wagon)  12.0    8  383.0  180.0  4955   11.5    71   \n",
       "172   Ford Country Squire (Wagon)  13.0    8  400.0  170.0  4746   12.0    71   \n",
       "174                  Ford Country  12.0    8  400.0  167.0  4906   12.5    73   \n",
       "225                      Hi 1200D   9.0    8  304.0  193.0  4732   18.5    70   \n",
       "259      Mercury Marquis Brougham  12.0    8  429.0  198.0  4952   11.5    73   \n",
       "333        Pontiac Safari (Wagon)  13.0    8  400.0  175.0  5140   12.0    71   \n",
       "\n",
       "          kpl  disp_per_cyl  \n",
       "40   5.526288        43.750  \n",
       "44   5.101189        56.875  \n",
       "80   4.676090        50.000  \n",
       "109  5.526288        55.000  \n",
       "158  5.101189        47.875  \n",
       "172  5.526288        50.000  \n",
       "174  5.101189        50.000  \n",
       "225  3.825892        38.000  \n",
       "259  5.101189        53.625  \n",
       "333  5.526288        50.000  "
      ]
     },
     "execution_count": 24,
     "metadata": {},
     "output_type": "execute_result"
    }
   ],
   "source": [
    "st_dev = df['wt'].std()\n",
    "avg = df['wt'].mean()\n",
    "\n",
    "df[df['wt'] > avg + 2 * st_dev]"
   ]
  },
  {
   "cell_type": "markdown",
   "metadata": {},
   "source": [
    "### Which cars have a name that is more than 30 characters long?"
   ]
  },
  {
   "cell_type": "code",
   "execution_count": 42,
   "metadata": {},
   "outputs": [
    {
     "data": {
      "text/html": [
       "<div>\n",
       "<style scoped>\n",
       "    .dataframe tbody tr th:only-of-type {\n",
       "        vertical-align: middle;\n",
       "    }\n",
       "\n",
       "    .dataframe tbody tr th {\n",
       "        vertical-align: top;\n",
       "    }\n",
       "\n",
       "    .dataframe thead th {\n",
       "        text-align: right;\n",
       "    }\n",
       "</style>\n",
       "<table border=\"1\" class=\"dataframe\">\n",
       "  <thead>\n",
       "    <tr style=\"text-align: right;\">\n",
       "      <th></th>\n",
       "      <th>type</th>\n",
       "      <th>mpg</th>\n",
       "      <th>cyl</th>\n",
       "      <th>disp</th>\n",
       "      <th>hp</th>\n",
       "      <th>wt</th>\n",
       "      <th>speed</th>\n",
       "      <th>wt.1</th>\n",
       "      <th>kpl</th>\n",
       "      <th>disp_per_cyl</th>\n",
       "    </tr>\n",
       "  </thead>\n",
       "  <tbody>\n",
       "    <tr>\n",
       "      <th>49</th>\n",
       "      <td>Buick Regal Sport Coupe (Turbo)</td>\n",
       "      <td>17.7</td>\n",
       "      <td>6</td>\n",
       "      <td>231.0</td>\n",
       "      <td>165.0</td>\n",
       "      <td>3445</td>\n",
       "      <td>13.4</td>\n",
       "      <td>78</td>\n",
       "      <td>7.524254</td>\n",
       "      <td>38.500000</td>\n",
       "    </tr>\n",
       "    <tr>\n",
       "      <th>66</th>\n",
       "      <td>Chevrolet Chevelle Concours (Wagon)</td>\n",
       "      <td>NaN</td>\n",
       "      <td>8</td>\n",
       "      <td>350.0</td>\n",
       "      <td>165.0</td>\n",
       "      <td>4142</td>\n",
       "      <td>11.5</td>\n",
       "      <td>70</td>\n",
       "      <td>NaN</td>\n",
       "      <td>43.750000</td>\n",
       "    </tr>\n",
       "    <tr>\n",
       "      <th>67</th>\n",
       "      <td>Chevrolet Chevelle Concours (Wagon)</td>\n",
       "      <td>13.0</td>\n",
       "      <td>8</td>\n",
       "      <td>307.0</td>\n",
       "      <td>130.0</td>\n",
       "      <td>4098</td>\n",
       "      <td>14.0</td>\n",
       "      <td>72</td>\n",
       "      <td>5.526288</td>\n",
       "      <td>38.375000</td>\n",
       "    </tr>\n",
       "    <tr>\n",
       "      <th>68</th>\n",
       "      <td>Chevrolet Chevelle Malibu Classic</td>\n",
       "      <td>16.0</td>\n",
       "      <td>6</td>\n",
       "      <td>250.0</td>\n",
       "      <td>100.0</td>\n",
       "      <td>3781</td>\n",
       "      <td>17.0</td>\n",
       "      <td>74</td>\n",
       "      <td>6.801585</td>\n",
       "      <td>41.666667</td>\n",
       "    </tr>\n",
       "    <tr>\n",
       "      <th>69</th>\n",
       "      <td>Chevrolet Chevelle Malibu Classic</td>\n",
       "      <td>17.5</td>\n",
       "      <td>8</td>\n",
       "      <td>305.0</td>\n",
       "      <td>140.0</td>\n",
       "      <td>4215</td>\n",
       "      <td>13.0</td>\n",
       "      <td>76</td>\n",
       "      <td>7.439234</td>\n",
       "      <td>38.125000</td>\n",
       "    </tr>\n",
       "    <tr>\n",
       "      <th>84</th>\n",
       "      <td>Chevrolet Malibu Classic (Wagon)</td>\n",
       "      <td>19.2</td>\n",
       "      <td>8</td>\n",
       "      <td>267.0</td>\n",
       "      <td>125.0</td>\n",
       "      <td>3605</td>\n",
       "      <td>15.0</td>\n",
       "      <td>79</td>\n",
       "      <td>8.161902</td>\n",
       "      <td>33.375000</td>\n",
       "    </tr>\n",
       "    <tr>\n",
       "      <th>108</th>\n",
       "      <td>Chrysler Lebaron Town &amp; Country (Wagon)</td>\n",
       "      <td>18.5</td>\n",
       "      <td>8</td>\n",
       "      <td>360.0</td>\n",
       "      <td>150.0</td>\n",
       "      <td>3940</td>\n",
       "      <td>13.0</td>\n",
       "      <td>79</td>\n",
       "      <td>7.864333</td>\n",
       "      <td>45.000000</td>\n",
       "    </tr>\n",
       "    <tr>\n",
       "      <th>266</th>\n",
       "      <td>Oldsmobile Cutlass Ciera (Diesel)</td>\n",
       "      <td>38.0</td>\n",
       "      <td>6</td>\n",
       "      <td>262.0</td>\n",
       "      <td>85.0</td>\n",
       "      <td>3015</td>\n",
       "      <td>17.0</td>\n",
       "      <td>82</td>\n",
       "      <td>16.153765</td>\n",
       "      <td>43.666667</td>\n",
       "    </tr>\n",
       "    <tr>\n",
       "      <th>268</th>\n",
       "      <td>Oldsmobile Cutlass Salon Brougham</td>\n",
       "      <td>19.9</td>\n",
       "      <td>8</td>\n",
       "      <td>260.0</td>\n",
       "      <td>110.0</td>\n",
       "      <td>3365</td>\n",
       "      <td>15.5</td>\n",
       "      <td>78</td>\n",
       "      <td>8.459472</td>\n",
       "      <td>32.500000</td>\n",
       "    </tr>\n",
       "    <tr>\n",
       "      <th>269</th>\n",
       "      <td>Oldsmobile Cutlass Salon Brougham</td>\n",
       "      <td>23.9</td>\n",
       "      <td>8</td>\n",
       "      <td>260.0</td>\n",
       "      <td>90.0</td>\n",
       "      <td>3420</td>\n",
       "      <td>22.2</td>\n",
       "      <td>79</td>\n",
       "      <td>10.159868</td>\n",
       "      <td>32.500000</td>\n",
       "    </tr>\n",
       "    <tr>\n",
       "      <th>310</th>\n",
       "      <td>Plymouth Satellite Custom (Wagon)</td>\n",
       "      <td>14.0</td>\n",
       "      <td>8</td>\n",
       "      <td>318.0</td>\n",
       "      <td>150.0</td>\n",
       "      <td>4077</td>\n",
       "      <td>14.0</td>\n",
       "      <td>72</td>\n",
       "      <td>5.951387</td>\n",
       "      <td>39.750000</td>\n",
       "    </tr>\n",
       "    <tr>\n",
       "      <th>388</th>\n",
       "      <td>Volkswagen Rabbit Custom Diesel</td>\n",
       "      <td>43.1</td>\n",
       "      <td>4</td>\n",
       "      <td>90.0</td>\n",
       "      <td>48.0</td>\n",
       "      <td>1985</td>\n",
       "      <td>21.5</td>\n",
       "      <td>78</td>\n",
       "      <td>18.321770</td>\n",
       "      <td>22.500000</td>\n",
       "    </tr>\n",
       "  </tbody>\n",
       "</table>\n",
       "</div>"
      ],
      "text/plain": [
       "                                        type   mpg  cyl   disp     hp    wt  \\\n",
       "49           Buick Regal Sport Coupe (Turbo)  17.7    6  231.0  165.0  3445   \n",
       "66       Chevrolet Chevelle Concours (Wagon)   NaN    8  350.0  165.0  4142   \n",
       "67       Chevrolet Chevelle Concours (Wagon)  13.0    8  307.0  130.0  4098   \n",
       "68         Chevrolet Chevelle Malibu Classic  16.0    6  250.0  100.0  3781   \n",
       "69         Chevrolet Chevelle Malibu Classic  17.5    8  305.0  140.0  4215   \n",
       "84          Chevrolet Malibu Classic (Wagon)  19.2    8  267.0  125.0  3605   \n",
       "108  Chrysler Lebaron Town & Country (Wagon)  18.5    8  360.0  150.0  3940   \n",
       "266        Oldsmobile Cutlass Ciera (Diesel)  38.0    6  262.0   85.0  3015   \n",
       "268        Oldsmobile Cutlass Salon Brougham  19.9    8  260.0  110.0  3365   \n",
       "269        Oldsmobile Cutlass Salon Brougham  23.9    8  260.0   90.0  3420   \n",
       "310        Plymouth Satellite Custom (Wagon)  14.0    8  318.0  150.0  4077   \n",
       "388          Volkswagen Rabbit Custom Diesel  43.1    4   90.0   48.0  1985   \n",
       "\n",
       "     speed  wt.1        kpl  disp_per_cyl  \n",
       "49    13.4    78   7.524254     38.500000  \n",
       "66    11.5    70        NaN     43.750000  \n",
       "67    14.0    72   5.526288     38.375000  \n",
       "68    17.0    74   6.801585     41.666667  \n",
       "69    13.0    76   7.439234     38.125000  \n",
       "84    15.0    79   8.161902     33.375000  \n",
       "108   13.0    79   7.864333     45.000000  \n",
       "266   17.0    82  16.153765     43.666667  \n",
       "268   15.5    78   8.459472     32.500000  \n",
       "269   22.2    79  10.159868     32.500000  \n",
       "310   14.0    72   5.951387     39.750000  \n",
       "388   21.5    78  18.321770     22.500000  "
      ]
     },
     "execution_count": 42,
     "metadata": {},
     "output_type": "execute_result"
    }
   ],
   "source": [
    "df[df['type'].str.len() > 30]"
   ]
  },
  {
   "cell_type": "code",
   "execution_count": null,
   "metadata": {},
   "outputs": [],
   "source": []
  }
 ],
 "metadata": {
  "kernelspec": {
   "display_name": "Python 3 (ipykernel)",
   "language": "python",
   "name": "python3"
  },
  "language_info": {
   "codemirror_mode": {
    "name": "ipython",
    "version": 3
   },
   "file_extension": ".py",
   "mimetype": "text/x-python",
   "name": "python",
   "nbconvert_exporter": "python",
   "pygments_lexer": "ipython3",
   "version": "3.11.5"
  }
 },
 "nbformat": 4,
 "nbformat_minor": 2
}
